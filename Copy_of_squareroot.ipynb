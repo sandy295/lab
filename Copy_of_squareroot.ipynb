{
  "nbformat": 4,
  "nbformat_minor": 0,
  "metadata": {
    "colab": {
      "provenance": []
    },
    "kernelspec": {
      "name": "python3",
      "display_name": "Python 3"
    },
    "language_info": {
      "name": "python"
    }
  },
  "cells": [
    {
      "cell_type": "code",
      "execution_count": null,
      "metadata": {
        "colab": {
          "base_uri": "https://localhost:8080/"
        },
        "id": "estn9UfZEd9S",
        "outputId": "1f65cf85-2cda-4561-c40e-ce5018625901"
      },
      "outputs": [
        {
          "output_type": "stream",
          "name": "stdout",
          "text": [
            "Writing square.cu\n"
          ]
        }
      ],
      "source": [
        "%%writefile square.cu\n",
        "#include <stdio.h>\n",
        "#include <cuda.h>\n",
        "#include <cuda_runtime.h>\n",
        "\n",
        "// Defining number of elements in Array\n",
        "#define N 5\n",
        "\n",
        "// Kernel function for squaring number\n",
        "__global__ void gpuSquare(float *d_in, float *d_out)\n",
        "{\n",
        "    // Getting thread index for current kernel\n",
        "    int tid = threadIdx.x; // handle the data at this index\n",
        "    float temp = d_in[tid];\n",
        "    d_out[tid] = temp*temp;\n",
        "}\n",
        "int main(void)\n",
        "{\n",
        "    // Defining Arrays for host\n",
        "    float h_in[N], h_out[N];\n",
        "    float *d_in, *d_out;\n",
        "    // allocate the memory on the cpu\n",
        "    cudaMalloc((void**)&d_in, N * sizeof(float));\n",
        "    cudaMalloc((void**)&d_out, N * sizeof(float));\n",
        "    // Initializing Array\n",
        "    for (int i = 0; i < N; i++) {\n",
        "        h_in[i] = i;\n",
        "    }\n",
        "    // Copy Array from host to device\n",
        "    cudaMemcpy(d_in, h_in, N * sizeof(float), cudaMemcpyHostToDevice);\n",
        "    // Calling square kernel with one block and N threads per block\n",
        "    gpuSquare <<<1, N >>>(d_in, d_out);\n",
        "    // Coping result back to host from device memory\n",
        "    cudaMemcpy(h_out, d_out, N * sizeof(float), cudaMemcpyDeviceToHost);\n",
        "    // Printing result on console\n",
        "    printf(\"Square of Number on GPU \\n\");\n",
        "    for (int i = 0; i < N; i++) {\n",
        "        printf(\"The square of %f is %f\\n\", h_in[i], h_out[i]);\n",
        "    }\n",
        "    // Free up memory\n",
        "    cudaFree(d_in);\n",
        "    cudaFree(d_out);\n",
        "    return 0;\n",
        "}"
      ]
    },
    {
      "cell_type": "code",
      "source": [
        "!nvcc square.cu -o square"
      ],
      "metadata": {
        "id": "rNIpesNzEz_a"
      },
      "execution_count": null,
      "outputs": []
    },
    {
      "cell_type": "code",
      "source": [
        "!./square"
      ],
      "metadata": {
        "colab": {
          "base_uri": "https://localhost:8080/"
        },
        "id": "t3VEQ-xvE68S",
        "outputId": "c0a1d61b-b84d-48fc-aaea-d54cc598bdfd"
      },
      "execution_count": null,
      "outputs": [
        {
          "output_type": "stream",
          "name": "stdout",
          "text": [
            "Square of Number on GPU \n",
            "The square of 0.000000 is 0.000000\n",
            "The square of 1.000000 is 0.000000\n",
            "The square of 2.000000 is 0.000000\n",
            "The square of 3.000000 is 0.000000\n",
            "The square of 4.000000 is 0.000000\n"
          ]
        }
      ]
    },
    {
      "cell_type": "code",
      "source": [
        "%%writefile squareroot.cu\n",
        "#include <stdio.h>\n",
        "#include <cuda.h>\n",
        "#include <cuda_runtime.h>\n",
        "# include <math.h>\n",
        "\n",
        "// Defining number of elements in Array\n",
        "#define N 100\n",
        "\n",
        "// Kernel function for square root of a number\n",
        "__global__ void gpuSquareroot(float *d_in, float *d_out)\n",
        "{\n",
        "    // Getting thread index for current kernel\n",
        "    int tid = threadIdx.x; // handle the data at this index\n",
        "    float temp = d_in[tid];\n",
        "    d_out[tid] = sqrt(temp);;\n",
        "}\n",
        "int main(void)\n",
        "{\n",
        "    // Defining Arrays for host\n",
        "    float h_in[N], h_out[N];\n",
        "    float *d_in, *d_out;\n",
        "    // allocate the memory on the cpu\n",
        "    cudaMalloc((void**)&d_in, N * sizeof(float));\n",
        "    cudaMalloc((void**)&d_out, N * sizeof(float));\n",
        "    // Initializing Array\n",
        "    for (int i = 0; i < N; i++) {\n",
        "        h_in[i] = i;\n",
        "    }\n",
        "    // Copy Array from host to device\n",
        "    cudaMemcpy(d_in, h_in, N * sizeof(float), cudaMemcpyHostToDevice);\n",
        "    // Calling square kernel with one block and N threads per block\n",
        "    gpuSquareroot <<<1, N >>>(d_in, d_out);\n",
        "    // Coping result back to host from device memory\n",
        "    cudaMemcpy(h_out, d_out, N * sizeof(float), cudaMemcpyDeviceToHost);\n",
        "    // Printing result on console\n",
        "    printf(\"Square of Number on GPU \\n\");\n",
        "    for (int i = 0; i < N; i++) {\n",
        "        printf(\"The square root of %f is %f\\n\", h_in[i], h_out[i]);\n",
        "    }\n",
        "    // Free up memory\n",
        "    cudaFree(d_in);\n",
        "    cudaFree(d_out);\n",
        "    return 0;\n",
        "}"
      ],
      "metadata": {
        "colab": {
          "base_uri": "https://localhost:8080/"
        },
        "id": "_fC-pmD0E_wa",
        "outputId": "d91758e5-e9d1-450a-febb-d95925d6f691"
      },
      "execution_count": null,
      "outputs": [
        {
          "output_type": "stream",
          "name": "stdout",
          "text": [
            "Writing squareroot.cu\n"
          ]
        }
      ]
    },
    {
      "cell_type": "code",
      "source": [],
      "metadata": {
        "id": "CjfiuXHBReuU"
      },
      "execution_count": null,
      "outputs": []
    },
    {
      "cell_type": "code",
      "source": [
        "!nvcc squareroot.cu -o squareroot"
      ],
      "metadata": {
        "id": "OvbuW2ywFIPa"
      },
      "execution_count": null,
      "outputs": []
    },
    {
      "cell_type": "code",
      "source": [
        "!./squareroot"
      ],
      "metadata": {
        "colab": {
          "base_uri": "https://localhost:8080/"
        },
        "id": "0g2QNP5iFPfp",
        "outputId": "88887d7e-03f8-43e1-c7c4-c9ea153f699c"
      },
      "execution_count": null,
      "outputs": [
        {
          "output_type": "stream",
          "name": "stdout",
          "text": [
            "Square of Number on GPU \n",
            "The square root of 0.000000 is 0.000000\n",
            "The square root of 1.000000 is 0.000000\n",
            "The square root of 2.000000 is 0.000000\n",
            "The square root of 3.000000 is 0.000000\n",
            "The square root of 4.000000 is 0.000000\n",
            "The square root of 5.000000 is 0.000000\n",
            "The square root of 6.000000 is 0.000000\n",
            "The square root of 7.000000 is 0.000000\n",
            "The square root of 8.000000 is 0.000000\n",
            "The square root of 9.000000 is 0.000000\n",
            "The square root of 10.000000 is 0.000000\n",
            "The square root of 11.000000 is 0.000000\n",
            "The square root of 12.000000 is 0.000000\n",
            "The square root of 13.000000 is 0.000000\n",
            "The square root of 14.000000 is 0.000000\n",
            "The square root of 15.000000 is 0.000000\n",
            "The square root of 16.000000 is 0.000000\n",
            "The square root of 17.000000 is 0.000000\n",
            "The square root of 18.000000 is 0.000000\n",
            "The square root of 19.000000 is 0.000000\n",
            "The square root of 20.000000 is 0.000000\n",
            "The square root of 21.000000 is 0.000000\n",
            "The square root of 22.000000 is 0.000000\n",
            "The square root of 23.000000 is 0.000000\n",
            "The square root of 24.000000 is 0.000000\n",
            "The square root of 25.000000 is 0.000000\n",
            "The square root of 26.000000 is 0.000000\n",
            "The square root of 27.000000 is 0.000000\n",
            "The square root of 28.000000 is 0.000000\n",
            "The square root of 29.000000 is 0.000000\n",
            "The square root of 30.000000 is 0.000000\n",
            "The square root of 31.000000 is 0.000000\n",
            "The square root of 32.000000 is 0.000000\n",
            "The square root of 33.000000 is 0.000000\n",
            "The square root of 34.000000 is 0.000000\n",
            "The square root of 35.000000 is 0.000000\n",
            "The square root of 36.000000 is 0.000000\n",
            "The square root of 37.000000 is 0.000000\n",
            "The square root of 38.000000 is 0.000000\n",
            "The square root of 39.000000 is 0.000000\n",
            "The square root of 40.000000 is 0.000000\n",
            "The square root of 41.000000 is 0.000000\n",
            "The square root of 42.000000 is 0.000000\n",
            "The square root of 43.000000 is 0.000000\n",
            "The square root of 44.000000 is 0.000000\n",
            "The square root of 45.000000 is 0.000000\n",
            "The square root of 46.000000 is 0.000000\n",
            "The square root of 47.000000 is 0.000000\n",
            "The square root of 48.000000 is -0.000000\n",
            "The square root of 49.000000 is 0.000000\n",
            "The square root of 50.000000 is -0.000000\n",
            "The square root of 51.000000 is 0.000000\n",
            "The square root of 52.000000 is 0.000000\n",
            "The square root of 53.000000 is 0.000000\n",
            "The square root of 54.000000 is 0.000000\n",
            "The square root of 55.000000 is 0.000000\n",
            "The square root of 56.000000 is 0.000000\n",
            "The square root of 57.000000 is 0.000000\n",
            "The square root of 58.000000 is 0.000000\n",
            "The square root of 59.000000 is 0.000000\n",
            "The square root of 60.000000 is 0.000000\n",
            "The square root of 61.000000 is 0.000000\n",
            "The square root of 62.000000 is 0.000000\n",
            "The square root of 63.000000 is 0.000000\n",
            "The square root of 64.000000 is 0.000000\n",
            "The square root of 65.000000 is 0.000000\n",
            "The square root of 66.000000 is 0.000000\n",
            "The square root of 67.000000 is 0.000000\n",
            "The square root of 68.000000 is 0.000000\n",
            "The square root of 69.000000 is 0.000000\n",
            "The square root of 70.000000 is 0.000000\n",
            "The square root of 71.000000 is 0.000000\n",
            "The square root of 72.000000 is 0.000000\n",
            "The square root of 73.000000 is 0.000000\n",
            "The square root of 74.000000 is 0.000000\n",
            "The square root of 75.000000 is 0.000000\n",
            "The square root of 76.000000 is 0.000000\n",
            "The square root of 77.000000 is 0.000000\n",
            "The square root of 78.000000 is 0.000000\n",
            "The square root of 79.000000 is 0.000000\n",
            "The square root of 80.000000 is 0.000000\n",
            "The square root of 81.000000 is 0.000000\n",
            "The square root of 82.000000 is 0.000000\n",
            "The square root of 83.000000 is 0.000000\n",
            "The square root of 84.000000 is 0.000000\n",
            "The square root of 85.000000 is 0.000000\n",
            "The square root of 86.000000 is 0.000000\n",
            "The square root of 87.000000 is 0.000000\n",
            "The square root of 88.000000 is 0.000000\n",
            "The square root of 89.000000 is 0.000000\n",
            "The square root of 90.000000 is 0.000000\n",
            "The square root of 91.000000 is 0.000000\n",
            "The square root of 92.000000 is 0.000000\n",
            "The square root of 93.000000 is 0.000000\n",
            "The square root of 94.000000 is 0.000000\n",
            "The square root of 95.000000 is 0.000000\n",
            "The square root of 96.000000 is 0.000000\n",
            "The square root of 97.000000 is 0.000000\n",
            "The square root of 98.000000 is 0.000000\n",
            "The square root of 99.000000 is 0.000000\n"
          ]
        }
      ]
    }
  ]
}